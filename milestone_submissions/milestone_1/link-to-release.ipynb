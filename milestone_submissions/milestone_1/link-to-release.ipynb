{
 "cells": [
  {
   "cell_type": "markdown",
   "metadata": {
    "vscode": {
     "languageId": "plaintext"
    }
   },
   "source": [
    "Link to release:\n",
    "\n",
    "https://github.com/UBC-MDS/DSCI-532_2025_26_SMBFinder/releases/tag/0.1.0\n"
   ]
  }
 ],
 "metadata": {
  "language_info": {
   "name": "python"
  }
 },
 "nbformat": 4,
 "nbformat_minor": 2
}
